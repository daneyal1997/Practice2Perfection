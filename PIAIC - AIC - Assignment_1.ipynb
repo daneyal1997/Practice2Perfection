{
 "cells": [
  {
   "cell_type": "markdown",
   "metadata": {},
   "source": [
    "# PIAIC - AIC - Assignment_1"
   ]
  },
  {
   "cell_type": "markdown",
   "metadata": {},
   "source": [
    "## Data"
   ]
  },
  {
   "cell_type": "code",
   "execution_count": 1,
   "metadata": {},
   "outputs": [],
   "source": [
    "# Input Data\n",
    "labels = ['gender', 'parental level of education', 'test preparation course', 'math score', 'reading score', 'writing score'],\n",
    "data = [\n",
    "   ['female', \"bachelor's degree\", 'none', '72', '72', '74'],\n",
    "  ['female', 'some college', 'completed', '69', '90', '88'],\n",
    "  ['female', \"master's degree\", 'none', '90', '95', '93'],\n",
    "  ['male', \"associate's degree\", 'none', '47', '57', '44'],\n",
    "  ['male', 'some college', 'none', '76', '78', '75'],\n",
    "  ['female', \"associate's degree\", 'none', '71', '83', '78'],\n",
    "  ['female', 'some college', 'completed', '88', '95', '92'],\n",
    "  ['male', 'some college', 'none', '40', '43', '39'],\n",
    "  ['male', 'high school', 'completed', '64', '64', '67'],\n",
    "  ['female', 'high school', 'none', '38', '60', '50'],\n",
    "  ['male', \"associate's degree\", 'none', '58', '54', '52'],\n",
    " ['male', \"associate's degree\", 'none', '40', '52', '43'],\n",
    " ['female', 'high school', 'none', '65', '81', '73'],\n",
    " ['male', 'some college', 'completed', '78', '72', '70'],\n",
    " ['female', \"master's degree\", 'none', '50', '53', '58'],\n",
    " ['female', 'some high school', 'none', '69', '75', '78'],\n",
    " ['male', 'high school', 'none', '88', '89', '86'],\n",
    " ['female', 'some high school', 'none', '18', '32', '28'],\n",
    " ['male', \"master's degree\", 'completed', '46', '42', '46'],\n",
    " ['female', \"associate's degree\", 'none', '54', '58', '61'],\n",
    " ['male', 'high school', 'none', '66', '69', '63'],\n",
    " ['female', 'some college', 'completed', '65', '75', '70'],\n",
    " ['male', 'some college', 'none', '44', '54', '53'],\n",
    " ['female', 'some high school', 'none', '69', '73', '73'],\n",
    " ['male', \"bachelor's degree\", 'completed', '74', '71', '80'],\n",
    " ['male', \"master's degree\", 'none', '73', '74', '72'],\n",
    " ['male', 'some college', 'none', '69', '54', '55'],\n",
    " ['female', \"bachelor's degree\", 'none', '67', '69', '75'],\n",
    " ['male', 'high school', 'none', '70', '70', '65'],\n",
    " ['female', \"master's degree\", 'none', '62', '70', '75'],\n",
    " ['female', 'some college', 'none', '69', '74', '74'],\n",
    " ['female', 'some college', 'none', '63', '65', '61'],\n",
    " ['female', \"master's degree\", 'none', '56', '72', '65'],\n",
    " ['male', 'some college', 'none', '40', '42', '38'],\n",
    " ['male', 'some college', 'none', '97', '87', '82'],\n",
    " ['male', \"associate's degree\", 'completed', '81', '81', '79'],\n",
    " ['female', \"associate's degree\", 'none', '74', '81', '83'],\n",
    " ['female', 'some high school', 'none', '50', '64', '59'],\n",
    " ['female', \"associate's degree\", 'completed', '75', '90', '88'],\n",
    "]"
   ]
  },
  {
   "cell_type": "markdown",
   "metadata": {},
   "source": [
    "## Question # 1:\n"
   ]
  },
  {
   "cell_type": "code",
   "execution_count": 2,
   "metadata": {},
   "outputs": [],
   "source": [
    "def query(gender='male',subject='math'):\n",
    "    male_scores = []\n",
    "    fem_scores = []\n",
    "    if gender == 'male':\n",
    "        for item in data:\n",
    "            if item[0] == 'male':\n",
    "                if subject == 'math':\n",
    "                    male_scores.append(int(item[-3]))\n",
    "                elif subject == 'reading':\n",
    "                    male_scores.append(int(item[-2]))\n",
    "                elif subject == 'writing':\n",
    "                    male_scores.append(int(item[-1]))\n",
    "                else:\n",
    "                    print(\"Wrong input! Use the Legend as reference and type subject accordingly\")                                 \n",
    "        return male_scores\n",
    "\n",
    "\n",
    "    elif gender == 'female':\n",
    "        for item in data:\n",
    "            if item[0] == 'female':\n",
    "                if subject == 'math':\n",
    "                    fem_scores.append(int(item[-3]))\n",
    "                elif subject == 'reading':\n",
    "                    fem_scores.append(int(item[-2]))\n",
    "                elif subject == 'writing':\n",
    "                    fem_scores.append(int(item[-1]))\n",
    "                else:\n",
    "                    print(\"Wrong input! Restart & Use the Legend as reference and type 'Subject' accordingly\")                                \n",
    "        return fem_scores\n",
    "    else:\n",
    "        print(\"Wrong input! Restart & Use the Legend as reference and type 'Gender' accordingly\")    "
   ]
  },
  {
   "cell_type": "markdown",
   "metadata": {},
   "source": [
    "#### Legend for Reference:\n",
    "(Note: Type these exactly as given here in the input boxes.)\n",
    "* Gender: `male` or `female`\n",
    "\n",
    "* Education: `some highschool` or `some college` or `associate's degree` or `bachelor's degree` or `master's degree`\n",
    "\n",
    "* Subjects: `maths` or `reading` or `writing`\n",
    "\n"
   ]
  },
  {
   "cell_type": "code",
   "execution_count": 3,
   "metadata": {},
   "outputs": [
    {
     "name": "stdout",
     "output_type": "stream",
     "text": [
      "Females scored: \n",
      " 1334 in 'Maths' \n",
      " 1527 in 'Reading'\n",
      " 1496 in 'Writing' \n",
      " The total score of All Females in All Subjects is 4357 \n"
     ]
    }
   ],
   "source": [
    "#Female Scores\n",
    "fem_math=sum(query('female','math'))\n",
    "fem_read=sum(query('female','reading'))\n",
    "fem_write=sum(query('female','writing'))\n",
    "fem_total= fem_math + fem_read + fem_write\n",
    "\n",
    "print(f\"Females scored: \\n {fem_math} in 'Maths' \\n {fem_read} in 'Reading'\\n {fem_write} in 'Writing' \\n The total score of All Females in All Subjects is {fem_total} \")\n"
   ]
  },
  {
   "cell_type": "code",
   "execution_count": 4,
   "metadata": {},
   "outputs": [
    {
     "name": "stdout",
     "output_type": "stream",
     "text": [
      "Males scored: \n",
      " 1151 in 'Maths' \n",
      " 1153 in 'Reading'\n",
      " 1109 in 'Writing' \n",
      " The total score of All Males in All Subjects is 3413 \n"
     ]
    }
   ],
   "source": [
    "#Male Scores\n",
    "male_math=sum(query('male', 'math'))\n",
    "male_read=sum(query('male', 'reading'))\n",
    "male_write=sum(query('male','writing'))\n",
    "male_total= male_math + male_read + male_write\n",
    "\n",
    "print(f\"Males scored: \\n {male_math} in 'Maths' \\n {male_read} in 'Reading'\\n {male_write} in 'Writing' \\n The total score of All Males in All Subjects is {male_total} \")"
   ]
  },
  {
   "cell_type": "code",
   "execution_count": 6,
   "metadata": {},
   "outputs": [
    {
     "name": "stdout",
     "output_type": "stream",
     "text": [
      "Type male or female: male\n",
      "Type subject:math\n",
      "[47, 76, 40, 64, 58, 40, 78, 88, 46, 66, 44, 74, 73, 69, 70, 40, 97, 81]\n"
     ]
    }
   ],
   "source": [
    "#Input Function Form:\n",
    "print(query(gender=input('Type male or female: '), subject=input('Type subject:')))\n"
   ]
  },
  {
   "cell_type": "code",
   "execution_count": 14,
   "metadata": {},
   "outputs": [
    {
     "name": "stdout",
     "output_type": "stream",
     "text": [
      "Female Average Score is '207.47619047619048', while Male Average Score is '189.61111111111111'\n"
     ]
    }
   ],
   "source": [
    "# Average Score Comparison\n",
    "fem_avg = fem_total/(len(list(i for i in data if i[0]=='female' )))\n",
    "male_avg = male_total/(len(list(i for i in data if i[0]=='male' )))\n",
    "\n",
    "print(f\"Female Average Score is '{fem_avg}', while Male Average Score is '{male_avg}'\")"
   ]
  },
  {
   "cell_type": "markdown",
   "metadata": {},
   "source": [
    "__Conclusion__:\n",
    "* In __total__, males have scored **3413** in all subjects, and females have **4357**. \n",
    "\n",
    "* On __Average__, males have scored **189.61** in all subjects, and females have scored **207.47**\n",
    "\n",
    "* Females have higher **Total** & **Average** Scores than males."
   ]
  },
  {
   "cell_type": "markdown",
   "metadata": {},
   "source": [
    "## Question # 2:\n",
    "Is there any difference in student score if parents have __master-level education__ in a specified score (we will take user input for choosing the score column)?"
   ]
  },
  {
   "cell_type": "code",
   "execution_count": 62,
   "metadata": {},
   "outputs": [],
   "source": [
    "def diff(education=\"some college\", subject='math'):\n",
    "    subj_scores = []\n",
    "    for item in data:\n",
    "        if item[1] == education:\n",
    "            if subject == 'math':\n",
    "                subj_scores.append(int(item[-3]))\n",
    "            elif subject == 'reading':\n",
    "                subj_scores.append(int(item[-2]))\n",
    "            elif subject == 'writing':\n",
    "                subj_scores.append(int(item[-1]))\n",
    "    try:\n",
    "        avg_score = sum(subj_scores)/len(subj_scores)\n",
    "        return (f\"There are '{len(subj_scores)}' students whose parents have '{education}'. \\nThe average score in '{subject}' for students with parents having '{education}' is '{avg_score}'. \\nIndividual Score list {subj_scores}\")\n",
    "    except ZeroDivisionError:\n",
    "        return (f\"There are '{len(subj_scores)}' students whose parents have '{education}'.\")\n",
    "    "
   ]
  },
  {
   "cell_type": "markdown",
   "metadata": {},
   "source": [
    "#### Legend for Reference:\n",
    "(Note: Type these exactly as given here in the input boxes.)\n",
    "* Gender: `male` or `female`\n",
    "\n",
    "* Education: `some highschool` or `some college` or `associate's degree` or `bachelor's degree` or `master's degree`\n",
    "\n",
    "* Subjects: `maths` or `reading` or `writing`\n",
    "\n"
   ]
  },
  {
   "cell_type": "code",
   "execution_count": 52,
   "metadata": {},
   "outputs": [
    {
     "name": "stdout",
     "output_type": "stream",
     "text": [
      "Type Level of Education: master's degree\n",
      "Type Subject: math\n",
      "There are '6' students whose parents have 'master's degree'. \n",
      "The average score in 'math' for students with parents having 'master's degree' is '62.833333333333336'. \n",
      "Individual Score list [90, 50, 46, 73, 62, 56]\n"
     ]
    }
   ],
   "source": [
    "# In Subject of \"Maths\"\n",
    "print(diff(education=input('Type Level of Education: '), subject=input('Type Subject: ')))"
   ]
  },
  {
   "cell_type": "code",
   "execution_count": 53,
   "metadata": {},
   "outputs": [
    {
     "name": "stdout",
     "output_type": "stream",
     "text": [
      "Type Level of Education: master's degree\n",
      "Type Subject: reading\n",
      "There are '6' students whose parents have 'master's degree'. \n",
      "The average score in 'reading' for students with parents having 'master's degree' is '67.66666666666667'. \n",
      "Individual Score list [95, 53, 42, 74, 70, 72]\n"
     ]
    }
   ],
   "source": [
    "# In Subject of \"Reading\"\n",
    "print(diff(education=input('Type Level of Education: '), subject=input('Type Subject: ')))"
   ]
  },
  {
   "cell_type": "code",
   "execution_count": 54,
   "metadata": {},
   "outputs": [
    {
     "name": "stdout",
     "output_type": "stream",
     "text": [
      "Type Level of Education: master's degree\n",
      "Type Subject: writing\n",
      "There are '6' students whose parents have 'master's degree'. \n",
      "The average score in 'writing' for students with parents having 'master's degree' is '68.16666666666667'. \n",
      "Individual Score list [93, 58, 46, 72, 75, 65]\n"
     ]
    }
   ],
   "source": [
    "# In Subject of \"Writing\"\n",
    "print(diff(education=input('Type Level of Education: '), subject=input('Type Subject: ')))"
   ]
  },
  {
   "cell_type": "code",
   "execution_count": 64,
   "metadata": {},
   "outputs": [
    {
     "name": "stdout",
     "output_type": "stream",
     "text": [
      "Type Level of Education: some high school\n",
      "Type Subject: writing\n",
      "There are '4' students whose parents have 'some high school'. \n",
      "The average score in 'writing' for students with parents having 'some high school' is '59.5'. \n",
      "Individual Score list [78, 28, 73, 59]\n"
     ]
    }
   ],
   "source": [
    "# COMPARISON WITH: [In Subject of \"Writing\" with \"some high school\"}\n",
    "print(diff(education=input('Type Level of Education: '), subject=input('Type Subject: ')))"
   ]
  },
  {
   "cell_type": "markdown",
   "metadata": {},
   "source": [
    "* __Conclusion__: On Average, In the subject of __\"Writing\"__ Students with parents having __master's degree__ have more score **(68.16)**, compared to the students with parents having __some high school__ degree **(59.5)**\n",
    "\n",
    "* This function can be used to compare any subject with any parental education level"
   ]
  },
  {
   "cell_type": "markdown",
   "metadata": {},
   "source": [
    "## Question # 3:\n",
    "Is there any difference in student score if parents have __Bachelor level education__ in a specified score (we will take user input for choosing the score column)?"
   ]
  },
  {
   "cell_type": "markdown",
   "metadata": {},
   "source": [
    "#### Legend for Reference:\n",
    "(Note: Type these exactly as given here in the input boxes.)\n",
    "\n",
    "* Education: `some highschool` or `some college` or `associate's degree` or `bachelor's degree` or `master's degree`\n",
    "\n",
    "* Subjects: `maths` or `reading` or `writing`\n",
    "\n"
   ]
  },
  {
   "cell_type": "code",
   "execution_count": 63,
   "metadata": {},
   "outputs": [
    {
     "name": "stdout",
     "output_type": "stream",
     "text": [
      "Type Level of Education: bachelor's degree\n",
      "Type Subject: maths\n",
      "There are '0' students whose parents have 'bachelor's degree'.\n"
     ]
    }
   ],
   "source": [
    "# We can use the same function as described in the last question\n",
    "# In Subject of \"Maths\"\n",
    "print(diff(education=input('Type Level of Education: '), subject=input('Type Subject: ')))"
   ]
  },
  {
   "cell_type": "code",
   "execution_count": 65,
   "metadata": {},
   "outputs": [
    {
     "name": "stdout",
     "output_type": "stream",
     "text": [
      "Type Level of Education: bachelor's degree\n",
      "Type Subject: reading\n",
      "There are '3' students whose parents have 'bachelor's degree'. \n",
      "The average score in 'reading' for students with parents having 'bachelor's degree' is '70.66666666666667'. \n",
      "Individual Score list [72, 71, 69]\n"
     ]
    }
   ],
   "source": [
    "# In Subject of \"Reading\"\n",
    "print(diff(education=input('Type Level of Education: '), subject=input('Type Subject: ')))"
   ]
  },
  {
   "cell_type": "code",
   "execution_count": 66,
   "metadata": {},
   "outputs": [
    {
     "name": "stdout",
     "output_type": "stream",
     "text": [
      "Type Level of Education: bachelor's degree\n",
      "Type Subject: writing\n",
      "There are '3' students whose parents have 'bachelor's degree'. \n",
      "The average score in 'writing' for students with parents having 'bachelor's degree' is '76.33333333333333'. \n",
      "Individual Score list [74, 80, 75]\n"
     ]
    }
   ],
   "source": [
    "# In Subject of \"Writing\"\n",
    "print(diff(education=input('Type Level of Education: '), subject=input('Type Subject: ')))"
   ]
  },
  {
   "cell_type": "markdown",
   "metadata": {},
   "source": [
    "* __Conclusion__: On Average, In the subject of __\"Reading\"__ Students with parents having __bachlor's degree__ have more score **(70.66)**, compared to the students with parents having __master's__ degree above **(67.6)**"
   ]
  },
  {
   "cell_type": "markdown",
   "metadata": {},
   "source": [
    "## Question # 4:\n",
    "\n",
    "How many parents have bachelors education, master education, or some college degrees level education?"
   ]
  },
  {
   "cell_type": "code",
   "execution_count": 2,
   "metadata": {},
   "outputs": [],
   "source": [
    "def edu(list):\n",
    "    bach = 0\n",
    "    col = 0\n",
    "    mast = 0\n",
    "    asso = 0\n",
    "    hs = 0\n",
    "    \n",
    "    for item in list:\n",
    "        if item[1] == \"associate's degree\":\n",
    "            asso += 1\n",
    "        elif item[1] == 'high school':\n",
    "            hs += 1\n",
    "        elif item[1] == \"master's degree\":\n",
    "            col += 1\n",
    "        elif  item[1] == 'some college':\n",
    "            mast += 1\n",
    "        elif item[1] == \"bachelor's degree\":\n",
    "            bach += 1\n",
    "    print(f\"{bach} parents have bachelor's degree \\n{col} parents some college degree \\n{mast} parents have master's degree \\n{asso} parents have associate's degree \\n{hs} parents have a high school degree\")\n"
   ]
  },
  {
   "cell_type": "code",
   "execution_count": 3,
   "metadata": {},
   "outputs": [
    {
     "name": "stdout",
     "output_type": "stream",
     "text": [
      "3 parents have bachelor's degree \n",
      "6 parents some college degree \n",
      "11 parents have master's degree \n",
      "8 parents have associate's degree \n",
      "6 parents have a high school degree\n"
     ]
    }
   ],
   "source": [
    "edu(data)"
   ]
  },
  {
   "cell_type": "markdown",
   "metadata": {},
   "source": [
    "## Question # 5:\n",
    "In a user given score, is the top scorer a female or male?"
   ]
  },
  {
   "cell_type": "code",
   "execution_count": 4,
   "metadata": {},
   "outputs": [],
   "source": [
    "def top(subject):\n",
    "    male_top = 0\n",
    "    female_top = 0\n",
    "    \n",
    "    for item in data:\n",
    "        if item[0] == 'female':\n",
    "            if subject == 'math':\n",
    "                if female_top < int(item[-3]):\n",
    "                    female_top = int(item[-3])\n",
    "                else:\n",
    "                    continue\n",
    "            elif subject == 'reading':\n",
    "                if female_top < int(item[-2]):\n",
    "                    female_top = int(item[-2])\n",
    "                else:\n",
    "                    continue\n",
    "            elif subject == 'writing':\n",
    "                if female_top < int(item[-1]):\n",
    "                    female_top = int(item[-1])\n",
    "                else:\n",
    "                    continue\n",
    "        if item[0] == 'male':\n",
    "            if subject == 'math':\n",
    "                if male_top < int(item[-3]):\n",
    "                    male_top = int(item[-3])\n",
    "            elif subject == 'reading':\n",
    "                if male_top < int(item[-2]):\n",
    "                    male_top = int(item[-2])\n",
    "                else:\n",
    "                    continue\n",
    "            elif subject == 'writing':\n",
    "                if male_top < int(item[-1]):\n",
    "                    male_top = int(item[-1])\n",
    "                    \n",
    "    return (f\"Top score in the subject of '{subject}' for Males is {male_top}, and for Females is {female_top}\")\n",
    "            "
   ]
  },
  {
   "cell_type": "code",
   "execution_count": 5,
   "metadata": {},
   "outputs": [
    {
     "data": {
      "text/plain": [
       "\"Top score in the subject of 'math' for Males is 97, and for Females is 90\""
      ]
     },
     "execution_count": 5,
     "metadata": {},
     "output_type": "execute_result"
    }
   ],
   "source": [
    "top('math')"
   ]
  },
  {
   "cell_type": "code",
   "execution_count": 6,
   "metadata": {},
   "outputs": [
    {
     "data": {
      "text/plain": [
       "\"Top score in the subject of 'reading' for Males is 89, and for Females is 95\""
      ]
     },
     "execution_count": 6,
     "metadata": {},
     "output_type": "execute_result"
    }
   ],
   "source": [
    "top('reading')"
   ]
  },
  {
   "cell_type": "code",
   "execution_count": 7,
   "metadata": {},
   "outputs": [
    {
     "data": {
      "text/plain": [
       "\"Top score in the subject of 'writing' for Males is 86, and for Females is 93\""
      ]
     },
     "execution_count": 7,
     "metadata": {},
     "output_type": "execute_result"
    }
   ],
   "source": [
    "top('writing')"
   ]
  },
  {
   "cell_type": "code",
   "execution_count": 8,
   "metadata": {},
   "outputs": [
    {
     "name": "stdout",
     "output_type": "stream",
     "text": [
      "Please enter Subject('math'/'reading'/'writing'): math\n"
     ]
    },
    {
     "data": {
      "text/plain": [
       "\"Top score in the subject of 'math' for Males is 97, and for Females is 90\""
      ]
     },
     "execution_count": 8,
     "metadata": {},
     "output_type": "execute_result"
    }
   ],
   "source": [
    "top(input(\"Please enter Subject('math'/'reading'/'writing'): \"))"
   ]
  },
  {
   "cell_type": "markdown",
   "metadata": {},
   "source": [
    "## Question 6:\n",
    "How many students have good in reading (> 75) but not good in writing( < 70)?"
   ]
  },
  {
   "cell_type": "code",
   "execution_count": 9,
   "metadata": {},
   "outputs": [
    {
     "data": {
      "text/plain": [
       "[['female', \"bachelor's degree\", 'none', '72', '72', '74'],\n",
       " ['female', 'some college', 'completed', '69', '90', '88'],\n",
       " ['female', \"master's degree\", 'none', '90', '95', '93'],\n",
       " ['male', \"associate's degree\", 'none', '47', '57', '44'],\n",
       " ['male', 'some college', 'none', '76', '78', '75']]"
      ]
     },
     "execution_count": 9,
     "metadata": {},
     "output_type": "execute_result"
    }
   ],
   "source": [
    "data[0:5]"
   ]
  },
  {
   "cell_type": "code",
   "execution_count": 10,
   "metadata": {},
   "outputs": [],
   "source": [
    "def goodInRead(list):\n",
    "    result = 0\n",
    "    for item in list:\n",
    "        if int(item[-2]) > 75 and int(item[-1]) < 70:\n",
    "            result += 1\n",
    "    return (f\" {result} students have a good score in 'Reading' but low scores in 'Writing'\")\n",
    "    \n",
    "    "
   ]
  },
  {
   "cell_type": "code",
   "execution_count": 11,
   "metadata": {},
   "outputs": [
    {
     "data": {
      "text/plain": [
       "\" 0 students have a good score in 'Reading' but low scores in 'Writing'\""
      ]
     },
     "execution_count": 11,
     "metadata": {},
     "output_type": "execute_result"
    }
   ],
   "source": [
    "goodInRead(data)"
   ]
  }
 ],
 "metadata": {
  "kernelspec": {
   "display_name": "Python 3",
   "language": "python",
   "name": "python3"
  },
  "language_info": {
   "codemirror_mode": {
    "name": "ipython",
    "version": 3
   },
   "file_extension": ".py",
   "mimetype": "text/x-python",
   "name": "python",
   "nbconvert_exporter": "python",
   "pygments_lexer": "ipython3",
   "version": "3.7.4"
  }
 },
 "nbformat": 4,
 "nbformat_minor": 2
}
